{
 "cells": [
  {
   "cell_type": "markdown",
   "metadata": {},
   "source": [
    "# Hurricane Detection Heatmap Generation Prototyping\n"
   ]
  },
  {
   "cell_type": "code",
   "execution_count": 1,
   "metadata": {},
   "outputs": [],
   "source": [
    "import numpy as np\n",
    "import matplotlib.pyplot as plt\n",
    "import tensorflow as tf\n",
    "% matplotlib inline\n",
    "import os\n",
    "import time\n",
    "from train_detection_cnn import build_detection_CNN"
   ]
  },
  {
   "cell_type": "code",
   "execution_count": 2,
   "metadata": {},
   "outputs": [
    {
     "name": "stdout",
     "output_type": "stream",
     "text": [
      "detection_cnn_hr_3ch/\n",
      "detection_cnn_hr_3ch/heatmap_data\n",
      "detection_cnn_hr_3ch/heatmap_data/hurricane_heatmap_input_3channels.npy\n",
      "detection_cnn_hr_3ch/model/model_1/model_1\n"
     ]
    }
   ],
   "source": [
    "'''select which dataset to use'''\n",
    "DATA_CHOICE = ['2channel', '3channel'][1]\n",
    "\n",
    "if DATA_CHOICE == '2channel':\n",
    "    work_dir = 'detection_cnn_lr_2ch/'\n",
    "    data_dir = 'heatmap_data'\n",
    "    input_file_name = 'hurricane_heatmap_input_2channels.npy'\n",
    "    ckpt_file = 'model/model_1/model_1'\n",
    "    window = 10    \n",
    "elif DATA_CHOICE == '3channel':\n",
    "    work_dir = 'detection_cnn_hr_3ch/'\n",
    "    data_dir = 'heatmap_data'\n",
    "    input_file_name = 'hurricane_heatmap_input_3channels.npy'\n",
    "    ckpt_file = 'model/model_1/model_1'\n",
    "    window = 40    \n",
    "else:\n",
    "    raise ValueError\n",
    "\n",
    "path_to_data = os.path.join(work_dir, data_dir)\n",
    "input_file = os.path.join(work_dir, data_dir, input_file_name)\n",
    "ckpt_file = os.path.join(work_dir, ckpt_file)\n",
    "print(work_dir)\n",
    "print(path_to_data)\n",
    "print(input_file)\n",
    "print(ckpt_file)"
   ]
  },
  {
   "cell_type": "code",
   "execution_count": 3,
   "metadata": {},
   "outputs": [
    {
     "name": "stdout",
     "output_type": "stream",
     "text": [
      "(12577, 511, 1152, 3)\n"
     ]
    },
    {
     "data": {
      "text/plain": [
       "<matplotlib.image.AxesImage at 0x7f46d2e60e10>"
      ]
     },
     "execution_count": 3,
     "metadata": {},
     "output_type": "execute_result"
    },
    {
     "data": {
      "image/png": "[encoded data removed]",
      "text/plain": [
       "<matplotlib.figure.Figure at 0x7f46d2e43b38>"
      ]
     },
     "metadata": {},
     "output_type": "display_data"
    }
   ],
   "source": [
    "img = np.load(input_file, mmap_mode='r')  # time, lat, lon, chan\n",
    "print(img.shape)\n",
    "_, imgd2, imgd3, imgd4 = img.shape\n",
    "plt.imshow(img[0,:,:,0])"
   ]
  },
  {
   "cell_type": "markdown",
   "metadata": {},
   "source": [
    "## loading model"
   ]
  },
  {
   "cell_type": "code",
   "execution_count": 4,
   "metadata": {},
   "outputs": [
    {
     "name": "stdout",
     "output_type": "stream",
     "text": [
      "INFO:tensorflow:Restoring parameters from detection_cnn_hr_3ch/model/model_1/model_1\n"
     ]
    }
   ],
   "source": [
    "saver = tf.train.import_meta_graph(ckpt_file+'.meta')\n",
    "sess = tf.Session()\n",
    "saver.restore(sess, ckpt_file)\n",
    "\n",
    "'''placeholders for conv'''\n",
    "img_input = tf.get_collection('img_input')[0]\n",
    "pred_y_map = tf.get_collection('pred_y_map')[0]\n",
    "keep_prob = tf.get_collection('keep_prob')[0]\n",
    "\n",
    "'''placeholders for sliding window'''\n",
    "input_x = tf.get_collection('crop_input')[0]\n",
    "pred_y = tf.get_collection('crop_pred')[0]"
   ]
  },
  {
   "cell_type": "markdown",
   "metadata": {},
   "source": [
    "## Sliding window"
   ]
  },
  {
   "cell_type": "code",
   "execution_count": 5,
   "metadata": {},
   "outputs": [],
   "source": [
    "_, n_lat, n_lon, _ = img.shape"
   ]
  },
  {
   "cell_type": "code",
   "execution_count": 6,
   "metadata": {},
   "outputs": [
    {
     "name": "stdout",
     "output_type": "stream",
     "text": [
      "556.097\n"
     ]
    }
   ],
   "source": [
    "win_size = window\n",
    "img_idx = 777\n",
    "offset = int(win_size/2)\n",
    "time_s = time.time()\n",
    "result_map = np.zeros((n_lat, n_lon))\n",
    "for lat_idx in range(n_lat-win_size):\n",
    "    for lon_idx in range(n_lon-win_size):\n",
    "        window_crop = img[img_idx:img_idx+1, lat_idx:lat_idx+win_size, lon_idx:lon_idx+win_size, :]\n",
    "        out = sess.run(pred_y, feed_dict={input_x: window_crop,\n",
    "                                          keep_prob: 1.0})\n",
    "        result_map[lat_idx + offset, lon_idx + offset] = out[0]\n",
    "elapsed = time.time() - time_s\n",
    "print('{:.3f}'.format(elapsed))"
   ]
  },
  {
   "cell_type": "code",
   "execution_count": 29,
   "metadata": {},
   "outputs": [],
   "source": [
    "'''thresholding'''\n",
    "result_map_thres = result_map.copy()\n",
    "result_map_thres[result_map_thres <= 0.8] = 0."
   ]
  },
  {
   "cell_type": "code",
   "execution_count": 27,
   "metadata": {},
   "outputs": [
    {
     "name": "stdout",
     "output_type": "stream",
     "text": [
      "0.9375 1.25\n",
      "0 (lon,lat) : (134.685066,34.547997)\n",
      "0 (lon_index, lat_index) : 107.74805280000001 79.51786346666668\n",
      "1 (lon,lat) : (128.729447,20.853316)\n",
      "1 (lon_index, lat_index) : 102.9835576 64.91020373333333\n",
      "2 (lon,lat) : (247.805787,16.149786)\n",
      "2 (lon_index, lat_index) : 198.2446296 59.893105066666664\n"
     ]
    }
   ],
   "source": [
    "'''load true hurricane position'''\n",
    "output=np.load(os.path.join(work_dir, data_dir, 'hurricane_heatmap_location_lonlat.npy'))\n",
    "index=777\n",
    "inn=img[index,:,:,1]\n",
    "\n",
    "d1,d2=np.shape(inn)\n",
    "\n",
    "lat_resol=120.0/d1; lon_resol=360.0/d2;\n",
    "print(lat_resol,lon_resol)\n",
    "\n",
    "l_true_label = []\n",
    "\n",
    "for k in range(len(output[index])):\n",
    "    lat_index=(40.0+float((output[index][k].split(\",\")[1]).split(\")\")[0]))/lat_resol;\n",
    "    lon_index=float((output[index][k].split(\",\")[0]).split(\"(\")[1])/lon_resol;\n",
    "    l_true_label.append((lon_index, lat_index))\n",
    "    print(str(k)+\" (lon,lat) :\",output[index][k])\n",
    "    print(str(k)+\" (lon_index, lat_index) :\",lon_index, lat_index)"
   ]
  },
  {
   "cell_type": "code",
   "execution_count": 30,
   "metadata": {},
   "outputs": [
    {
     "data": {
      "image/png": "[encoded data removed]",
      "text/plain": [
       "<matplotlib.figure.Figure at 0x7fed7986a6a0>"
      ]
     },
     "metadata": {},
     "output_type": "display_data"
    }
   ],
   "source": [
    "plt.figure(figsize=(17,7))\n",
    "plt.imshow(result_map_thres[:,:])\n",
    "plt.colorbar()\n",
    "\n",
    "for t in l_true_label:\n",
    "    plt.scatter([t[0]], [t[1]], c='r')"
   ]
  },
  {
   "cell_type": "markdown",
   "metadata": {},
   "source": [
    "## CONV"
   ]
  },
  {
   "cell_type": "code",
   "execution_count": 13,
   "metadata": {},
   "outputs": [],
   "source": [
    "# pred_img = sess.run(pred_y_map, feed_dict= {img_input:img[[400]], keep_prob:1})"
   ]
  },
  {
   "cell_type": "code",
   "execution_count": 14,
   "metadata": {
    "scrolled": true
   },
   "outputs": [],
   "source": [
    "# plt.figure(figsize=(16,9))\n",
    "# plt.imshow(pred_img[0,:,:,0])\n",
    "# plt.colorbar()"
   ]
  }
 ],
 "metadata": {
  "kernelspec": {
   "display_name": "Python 3",
   "language": "python",
   "name": "python3"
  },
  "language_info": {
   "codemirror_mode": {
    "name": "ipython",
    "version": 3
   },
   "file_extension": ".py",
   "mimetype": "text/x-python",
   "name": "python",
   "nbconvert_exporter": "python",
   "pygments_lexer": "ipython3",
   "version": "3.6.3"
  }
 },
 "nbformat": 4,
 "nbformat_minor": 2
}
